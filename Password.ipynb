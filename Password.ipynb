{
  "nbformat": 4,
  "nbformat_minor": 0,
  "metadata": {
    "colab": {
      "provenance": [],
      "authorship_tag": "ABX9TyPMVrcWuIsJyOz+uVQMV2cX",
      "include_colab_link": true
    },
    "kernelspec": {
      "name": "python3",
      "display_name": "Python 3"
    },
    "language_info": {
      "name": "python"
    }
  },
  "cells": [
    {
      "cell_type": "markdown",
      "metadata": {
        "id": "view-in-github",
        "colab_type": "text"
      },
      "source": [
        "<a href=\"https://colab.research.google.com/github/ItsHamzas/Unit_Convertor/blob/main/Password.ipynb\" target=\"_parent\"><img src=\"https://colab.research.google.com/assets/colab-badge.svg\" alt=\"Open In Colab\"/></a>"
      ]
    },
    {
      "cell_type": "code",
      "execution_count": 9,
      "metadata": {
        "id": "Ty3LecIOB0xh",
        "colab": {
          "base_uri": "https://localhost:8080/"
        },
        "outputId": "ea408f35-87cf-40a2-aa08-68821a5d38b1"
      },
      "outputs": [
        {
          "output_type": "stream",
          "name": "stdout",
          "text": [
            "Enter a password to chect its strength:Hsshgtd3@fgdf\n",
            "stong password!\n"
          ]
        }
      ],
      "source": [
        "import re\n",
        "\n",
        "# functions to check the strength of password\n",
        "def check_password_strength(password):\n",
        "  if len(password) < 8:\n",
        "    return \"weak: Password must be 8 characters long!\"\n",
        "\n",
        "  if not re.search(r'[A-Z]', password):\n",
        "    return \"weak: Password must contain at least one uppercase letter.\"\n",
        "\n",
        "  if not re.search(r'[a-z]', password):\n",
        "    return \"weak: Password must contain at least one lowercase letter.\"\n",
        "\n",
        "  if not re.search(r'[0-9]', password):\n",
        "    return \"weak: Password must contain at least one digit.\"\n",
        "\n",
        "  if not re.search(r'[!@#$%^&*(),.?\":{}|<>]', password):\n",
        "    return \"weak: Password must contain at least one special charachter.\"\n",
        "\n",
        "  return \"stong password!\"\n",
        "\n",
        "# Main program\n",
        "password = input(\"Enter a password to chect its strength:\")\n",
        "result = check_password_strength(password)\n",
        "print(result)\n",
        "\n",
        "\n"
      ]
    }
  ]
}